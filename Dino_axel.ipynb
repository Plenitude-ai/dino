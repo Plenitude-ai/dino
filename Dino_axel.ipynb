{
 "cells": [
  {
   "cell_type": "markdown",
   "metadata": {},
   "source": [
    "# Dino"
   ]
  },
  {
   "cell_type": "markdown",
   "metadata": {},
   "source": [
    "Trying to see the attention maps of a photo example\r\n"
   ]
  },
  {
   "cell_type": "markdown",
   "metadata": {},
   "source": [
    "### Load Image\r\n"
   ]
  },
  {
   "cell_type": "code",
   "execution_count": 1,
   "metadata": {},
   "outputs": [],
   "source": [
    "from PIL import Image\r\n",
    "import numpy as np\r\n",
    "import matplotlib.pyplot as plt"
   ]
  },
  {
   "cell_type": "code",
   "execution_count": null,
   "metadata": {},
   "outputs": [],
   "source": [
    "path = \"\"\"C:\\\\Users\\\\axeld\\\\Pictures\\\\selfie_coiffeur_28.08.21.jpeg\"\"\"\r\n",
    "img = Image.open(path)\r\n",
    "plt.imshow(img)"
   ]
  },
  {
   "cell_type": "markdown",
   "metadata": {},
   "source": [
    "# Create Attention Maps"
   ]
  },
  {
   "cell_type": "code",
   "execution_count": null,
   "metadata": {},
   "outputs": [],
   "source": [
    "!python visualize_attention.py -help"
   ]
  },
  {
   "cell_type": "code",
   "execution_count": null,
   "metadata": {},
   "outputs": [],
   "source": [
    "# !python visualize_attention.py --output_dir \"./output\" --image_path $path"
   ]
  },
  {
   "cell_type": "markdown",
   "metadata": {},
   "source": [
    "# Display images"
   ]
  },
  {
   "cell_type": "code",
   "execution_count": null,
   "metadata": {},
   "outputs": [],
   "source": [
    "import seaborn as sns\r\n",
    "\r\n",
    "img0 = Image.open(\"output/attn-head0.png\")\r\n",
    "img1 = Image.open(\"output/attn-head1.png\")\r\n",
    "img2 = Image.open(\"output/attn-head2.png\")\r\n",
    "img3 = Image.open(\"output/attn-head3.png\")\r\n",
    "img4 = Image.open(\"output/attn-head4.png\")\r\n",
    "img5 = Image.open(\"output/attn-head5.png\")\r\n",
    "\r\n",
    "\r\n",
    "fig, ax = plt.subplots(2,3, figsize=(15,15))\r\n",
    "ax[0,0].imshow(img0)\r\n",
    "ax[0,1].imshow(img1)\r\n",
    "ax[0,2].imshow(img2)\r\n",
    "ax[1,0].imshow(img3)\r\n",
    "ax[1,1].imshow(img4)\r\n",
    "ax[1,2].imshow(img5)"
   ]
  },
  {
   "cell_type": "code",
   "execution_count": null,
   "metadata": {},
   "outputs": [],
   "source": [
    "img0_ = np.array(img0)[:,:,:3]\r\n",
    "img1_ = np.array(img1)[:,:,:3]\r\n",
    "img2_ = np.array(img2)[:,:,:3]\r\n",
    "img3_ = np.array(img3)[:,:,:3]\r\n",
    "img4_ = np.array(img4)[:,:,:3]\r\n",
    "img5_ = np.array(img5)[:,:,:3]\r\n",
    "\r\n",
    "img_ = ((img0_ + img1_ + img2_ + img3_ + img4_ + img5_ )/6).astype(np.uint8)\r\n",
    "\r\n",
    "fig = plt.figure(figsize=(10,10))\r\n",
    "plt.imshow(img_)"
   ]
  },
  {
   "cell_type": "code",
   "execution_count": null,
   "metadata": {},
   "outputs": [],
   "source": []
  },
  {
   "cell_type": "code",
   "execution_count": null,
   "metadata": {},
   "outputs": [],
   "source": []
  },
  {
   "cell_type": "code",
   "execution_count": null,
   "metadata": {},
   "outputs": [],
   "source": []
  }
 ],
 "metadata": {
  "interpreter": {
   "hash": "f17faad1cc96198557072074a1d17b9b433901c680f8aaef8a19317e41007560"
  },
  "kernelspec": {
   "display_name": "dino",
   "language": "python",
   "name": "dino"
  },
  "language_info": {
   "codemirror_mode": {
    "name": "ipython",
    "version": 3
   },
   "file_extension": ".py",
   "mimetype": "text/x-python",
   "name": "python",
   "nbconvert_exporter": "python",
   "pygments_lexer": "ipython3",
   "version": "3.9.0"
  }
 },
 "nbformat": 4,
 "nbformat_minor": 4
}
